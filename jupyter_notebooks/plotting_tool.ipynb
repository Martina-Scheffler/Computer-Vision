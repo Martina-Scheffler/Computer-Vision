{
 "cells": [
  {
   "cell_type": "code",
   "execution_count": 1,
   "metadata": {},
   "outputs": [],
   "source": [
    "import numpy as np\n",
    "import cv2 \n",
    "import matplotlib.pyplot as plt"
   ]
  },
  {
   "cell_type": "code",
   "execution_count": 2,
   "metadata": {},
   "outputs": [],
   "source": [
    "camera = 1\n",
    "original_scale = (3840, 2160)\n",
    "display_scale = (1920, 1080)\n",
    "\n",
    "scale_ratio = original_scale[0] / display_scale[0]"
   ]
  },
  {
   "cell_type": "code",
   "execution_count": 3,
   "metadata": {},
   "outputs": [],
   "source": [
    "image = cv2.imread(f'../extrinsic_calibration_images/out{camera}.png')"
   ]
  },
  {
   "cell_type": "code",
   "execution_count": 17,
   "metadata": {},
   "outputs": [],
   "source": [
    "# function to display the coordinates of \n",
    "# of the points clicked on the image  \n",
    "def click_event(event, x, y, flags, params): \n",
    "  \n",
    "    # checking for left mouse clicks \n",
    "    if event == cv2.EVENT_LBUTTONDOWN: \n",
    "  \n",
    "        # displaying the coordinates \n",
    "        # on the Shell \n",
    "        global point\n",
    "        point = np.array([int(scale_ratio * x), int(scale_ratio * y), 1])\n",
    "        print(point) \n",
    "  \n",
    "        # displaying the coordinates \n",
    "        # on the image window \n",
    "        font = cv2.FONT_HERSHEY_SIMPLEX \n",
    "        imS = cv2.resize(image, display_scale)\n",
    "        cv2.putText(imS, str(point[0]) + ',' +\n",
    "                    str(point[1]), (x,y), font, \n",
    "                    1, (255, 0, 0), 2)\n",
    "        cv2.imshow('image', imS) "
   ]
  },
  {
   "cell_type": "code",
   "execution_count": 5,
   "metadata": {},
   "outputs": [
    {
     "name": "stdout",
     "output_type": "stream",
     "text": [
      "[2013 1635    1]\n"
     ]
    }
   ],
   "source": [
    "imS = cv2.resize(image, display_scale) \n",
    "cv2.imshow('image', imS)\n",
    "# setting mouse handler for the image and calling the click_event() function \n",
    "cv2.setMouseCallback('image', click_event) \n",
    "cv2.waitKey(0)\n",
    "cv2.destroyAllWindows()\n"
   ]
  },
  {
   "cell_type": "code",
   "execution_count": 6,
   "metadata": {},
   "outputs": [],
   "source": [
    "homography_matrix = np.load(f'../homography_matrices/{camera}.npy')\n",
    "world_point = np.dot(homography_matrix, point)\n",
    "world_point = world_point / world_point[2]"
   ]
  },
  {
   "cell_type": "code",
   "execution_count": 31,
   "metadata": {},
   "outputs": [
    {
     "data": {
      "image/png": "[encoded data removed]",
      "text/plain": [
       "<Figure size 432x288 with 1 Axes>"
      ]
     },
     "metadata": {
      "needs_background": "light"
     },
     "output_type": "display_data"
    }
   ],
   "source": [
    "# plot the court\n",
    "plt.scatter([0, 0, 6, 6, 9, 9, 12, 12, 18, 18], [0, 9, 0, 9, 0, 9, 0, 9, 0, 9], color='blue')\n",
    "plt.plot([0, 0], [0, 9], 'blue')\n",
    "plt.plot([6, 6], [0, 9], 'blue')\n",
    "plt.plot([9, 9], [0, 9], 'blue')\n",
    "plt.plot([12, 12], [0, 9], 'blue')\n",
    "plt.plot([18, 18], [0, 9], 'blue')\n",
    "plt.plot([0, 18], [0, 0], 'blue')\n",
    "plt.plot([0, 18], [9, 9], 'blue')\n",
    "\n",
    "# plot the point\n",
    "#plt.scatter(world_point[0], world_point[1], color='red')\n",
    "\n",
    "plt.xlim((-5, 23))\n",
    "plt.ylim((-5, 14))\n",
    "\n",
    "# invert the y axis so origin is in top left corner\n",
    "plt.gca().invert_yaxis()\n",
    "\n",
    "#plt.axis('equal')\n",
    "plt.savefig('../images/court.png', dpi=400)\n"
   ]
  },
  {
   "cell_type": "code",
   "execution_count": 8,
   "metadata": {},
   "outputs": [],
   "source": [
    "# loop over other images - try to find point\n",
    "homographies = {\n",
    "    '1': np.load('../homography_matrices/1.npy'),\n",
    "    '2': np.load('../homography_matrices/2.npy'),\n",
    "    '3': np.load('../homography_matrices/3.npy'),\n",
    "    '4': np.load('../homography_matrices/4.npy'),\n",
    "    '5': np.load('../homography_matrices/5.npy'),\n",
    "    '6': np.load('../homography_matrices/6.npy'),\n",
    "    '7': np.load('../homography_matrices/7.npy'),\n",
    "    '8': np.load('../homography_matrices/8.npy'),\n",
    "    '12': np.load('../homography_matrices/12.npy'),\n",
    "    '13': np.load('../homography_matrices/13.npy')\n",
    "}\n"
   ]
  },
  {
   "cell_type": "code",
   "execution_count": 9,
   "metadata": {},
   "outputs": [
    {
     "name": "stdout",
     "output_type": "stream",
     "text": [
      "Camera 4 does not see this point.\n"
     ]
    }
   ],
   "source": [
    "for camera in homographies.keys():\n",
    "    image_point = np.dot(np.linalg.inv(homographies[camera]), world_point)\n",
    "    image_point = (image_point / image_point[2])[:2]\n",
    "    \n",
    "    if 0 < image_point[0] < original_scale[0] and 0 < image_point[1] < original_scale[1]:\n",
    "        image2 = cv2.imread(f'../extrinsic_calibration_images/out{camera}.png')\n",
    "        cv2.circle(image2, image_point.astype(int), 15, (0, 0, 255), 3)\n",
    "        im2 = cv2.resize(image2, display_scale) \n",
    "        cv2.imshow(f'Camera {camera}', im2)\n",
    "        cv2.waitKey(0)\n",
    "        cv2.destroyAllWindows()\n",
    "    else:\n",
    "        print(f'Camera {camera} does not see this point.')\n",
    "    "
   ]
  },
  {
   "cell_type": "code",
   "execution_count": 10,
   "metadata": {},
   "outputs": [],
   "source": [
    "# # find point in other images \n",
    "# homography_2 = np.load('../homography_matrices/2.npy')\n",
    "# image_point = np.dot(np.linalg.inv(homography_2), world_point)\n",
    "# image_point = (image_point / image_point[2])[:2]\n",
    "\n",
    "# if image_point[0] < original_scale[0] and image_point[1] < original_scale[1]:\n",
    "#     image2 = cv2.imread(f'../extrinsic_calibration_images/out2.png')\n",
    "#     cv2.circle(image2, image_point.astype(int), 10, (0, 0, 255), 2)\n",
    "#     im2 = cv2.resize(image2, display_scale) \n",
    "#     cv2.imshow('image', im2)\n",
    "#     cv2.waitKey(0)\n",
    "#     cv2.destroyAllWindows()"
   ]
  },
  {
   "cell_type": "code",
   "execution_count": 11,
   "metadata": {},
   "outputs": [],
   "source": [
    "# # find point in other images \n",
    "# homography_3 = np.load('../homography_matrices/3.npy')\n",
    "# image_point = np.dot(np.linalg.inv(homography_3), world_point)\n",
    "# image_point = (image_point / image_point[2])[:2]\n",
    "\n",
    "# if image_point[0] < original_scale[0] and image_point[1] < original_scale[1]:\n",
    "#     image2 = cv2.imread(f'../extrinsic_calibration_images/out3.png')\n",
    "#     cv2.circle(image2, image_point.astype(int), 10, (0, 0, 255), 2)\n",
    "#     im2 = cv2.resize(image2, display_scale) \n",
    "#     cv2.imshow('image', im2)\n",
    "#     cv2.waitKey(0)\n",
    "#     cv2.destroyAllWindows()"
   ]
  },
  {
   "cell_type": "code",
   "execution_count": 19,
   "metadata": {},
   "outputs": [],
   "source": [
    "def display_grid():\n",
    "    img1 = cv2.imread(f'../extrinsic_calibration_images/out1.png')\n",
    "    img2 = cv2.imread(f'../extrinsic_calibration_images/out2.png')\n",
    "    img3 = cv2.imread(f'../extrinsic_calibration_images/out3.png')\n",
    "    img4 = cv2.imread(f'../extrinsic_calibration_images/out4.png')\n",
    "    img5 = cv2.imread(f'../extrinsic_calibration_images/out5.png')\n",
    "    img6 = cv2.imread(f'../extrinsic_calibration_images/out6.png')\n",
    "    img7 = cv2.imread(f'../extrinsic_calibration_images/out7.png')\n",
    "    img8 = cv2.imread(f'../extrinsic_calibration_images/out8.png')\n",
    "    img12 = cv2.imread(f'../extrinsic_calibration_images/out12.png')\n",
    "    img13 = cv2.imread(f'../extrinsic_calibration_images/out13.png')\n",
    "\n",
    "    court = np.zeros_like(img1)\n",
    "\n",
    "    # concatenate images horizontally \n",
    "    row1 = np.concatenate((img1, img2, img3, img4), axis=1) \n",
    "    row2 = np.concatenate((img5, img6, court, court), axis=1)\n",
    "    row3 = np.concatenate((img7, img8, court, court), axis=1)\n",
    "    row4 = np.concatenate((img12, img13, court, court), axis=1)\n",
    "  \n",
    "    # concatenate images vertically \n",
    "    cluster = np.concatenate((row1, row2, row3, row4), axis=0) \n",
    "\n",
    "    # display\n",
    "    cv2.namedWindow('cluster', cv2.WINDOW_NORMAL)\n",
    "    cv2.setWindowProperty('cluster', cv2.WND_PROP_FULLSCREEN, cv2.WINDOW_FULLSCREEN)\n",
    "    \n",
    "    cluster_rs = cv2.resize(cluster, display_scale)\n",
    "    cv2.imshow('cluster', cluster_rs) \n",
    "    \n",
    "    "
   ]
  },
  {
   "cell_type": "code",
   "execution_count": 20,
   "metadata": {},
   "outputs": [],
   "source": [
    "def click_grid(event, x, y, flags, params): \n",
    "    # checking for left mouse clicks \n",
    "    if event == cv2.EVENT_LBUTTONDOWN: \n",
    "        # displaying the coordinates \n",
    "        # on the Shell \n",
    "        global point\n",
    "        point = np.array([int(scale_ratio * x), int(scale_ratio * y), 1])\n",
    "        print(point) \n",
    "        return point\n",
    "  \n",
    "        # # displaying the coordinates \n",
    "        # # on the image window \n",
    "        # font = cv2.FONT_HERSHEY_SIMPLEX \n",
    "        # imS = cv2.resize(image, display_scale)\n",
    "        # cv2.putText(imS, str(point[0]) + ',' +\n",
    "        #             str(point[1]), (x,y), font, \n",
    "        #             1, (255, 0, 0), 2)\n",
    "        # cv2.imshow('image', imS)"
   ]
  },
  {
   "cell_type": "code",
   "execution_count": 15,
   "metadata": {},
   "outputs": [],
   "source": [
    "def enlarge_grid_image():\n",
    "    small_width = display_scale[0] / 4\n",
    "    small_height = display_scale[1] / 4\n",
    "    x = point[0]\n",
    "    y = point[1]\n",
    "    \n",
    "    if x < small_width:\n",
    "        # 1, 5, 7, 12\n",
    "        if y < small_height:\n",
    "            return 1\n",
    "        elif y < 2 * small_height:\n",
    "            return 5\n",
    "        elif y < 3 * small_height:\n",
    "            return 7\n",
    "        else:\n",
    "            return 12\n",
    "    elif x < 2 * small_width:\n",
    "        # 2, 6, 8, 13\n",
    "        if y < small_height:\n",
    "            return 2\n",
    "        elif y < 2 * small_height:\n",
    "            return 6\n",
    "        elif y < 3 * small_height:\n",
    "            return 8\n",
    "        else:\n",
    "            return 13\n",
    "    elif x < 3 * small_width:\n",
    "        # 3 or error\n",
    "        if y < small_height:\n",
    "            return 3\n",
    "    else:\n",
    "        # 4 or error\n",
    "        if y < small_height:\n",
    "            return 4"
   ]
  },
  {
   "cell_type": "code",
   "execution_count": 16,
   "metadata": {},
   "outputs": [],
   "source": [
    "def display_enlarged_image(camera):\n",
    "    cv2.namedWindow('image', cv2.WINDOW_NORMAL)\n",
    "    cv2.setWindowProperty('image', cv2.WND_PROP_FULLSCREEN, cv2.WINDOW_FULLSCREEN)\n",
    "    image = cv2.imread(f'../extrinsic_calibration_images/out{camera}.png')\n",
    "    imS = cv2.resize(image, display_scale) \n",
    "    cv2.imshow('image', imS)"
   ]
  },
  {
   "cell_type": "code",
   "execution_count": 21,
   "metadata": {},
   "outputs": [
    {
     "name": "stdout",
     "output_type": "stream",
     "text": [
      "[480 336   1]\n",
      "[ 278 1638    1]\n"
     ]
    },
    {
     "ename": "NameError",
     "evalue": "name 'image' is not defined",
     "output_type": "error",
     "traceback": [
      "\u001b[0;31m---------------------------------------------------------------------------\u001b[0m",
      "\u001b[0;31mNameError\u001b[0m                                 Traceback (most recent call last)",
      "\u001b[0;32m/tmp/ipykernel_396201/795385406.py\u001b[0m in \u001b[0;36mclick_event\u001b[0;34m(event, x, y, flags, params)\u001b[0m\n\u001b[1;32m     15\u001b[0m         \u001b[0;31m# on the image window\u001b[0m\u001b[0;34m\u001b[0m\u001b[0;34m\u001b[0m\u001b[0;34m\u001b[0m\u001b[0m\n\u001b[1;32m     16\u001b[0m         \u001b[0mfont\u001b[0m \u001b[0;34m=\u001b[0m \u001b[0mcv2\u001b[0m\u001b[0;34m.\u001b[0m\u001b[0mFONT_HERSHEY_SIMPLEX\u001b[0m\u001b[0;34m\u001b[0m\u001b[0;34m\u001b[0m\u001b[0m\n\u001b[0;32m---> 17\u001b[0;31m         \u001b[0mimS\u001b[0m \u001b[0;34m=\u001b[0m \u001b[0mcv2\u001b[0m\u001b[0;34m.\u001b[0m\u001b[0mresize\u001b[0m\u001b[0;34m(\u001b[0m\u001b[0mimage\u001b[0m\u001b[0;34m,\u001b[0m \u001b[0mdisplay_scale\u001b[0m\u001b[0;34m)\u001b[0m\u001b[0;34m\u001b[0m\u001b[0;34m\u001b[0m\u001b[0m\n\u001b[0m\u001b[1;32m     18\u001b[0m         cv2.putText(imS, str(point[0]) + ',' +\n\u001b[1;32m     19\u001b[0m                     \u001b[0mstr\u001b[0m\u001b[0;34m(\u001b[0m\u001b[0mpoint\u001b[0m\u001b[0;34m[\u001b[0m\u001b[0;36m1\u001b[0m\u001b[0;34m]\u001b[0m\u001b[0;34m)\u001b[0m\u001b[0;34m,\u001b[0m \u001b[0;34m(\u001b[0m\u001b[0mx\u001b[0m\u001b[0;34m,\u001b[0m\u001b[0my\u001b[0m\u001b[0;34m)\u001b[0m\u001b[0;34m,\u001b[0m \u001b[0mfont\u001b[0m\u001b[0;34m,\u001b[0m\u001b[0;34m\u001b[0m\u001b[0;34m\u001b[0m\u001b[0m\n",
      "\u001b[0;31mNameError\u001b[0m: name 'image' is not defined"
     ]
    }
   ],
   "source": [
    "display_grid()\n",
    "cv2.setMouseCallback('cluster', click_grid) \n",
    "cv2.waitKey(0) \n",
    "\n",
    "camera = enlarge_grid_image()\n",
    "display_enlarged_image(camera)\n",
    "cv2.setMouseCallback('image', click_event) \n",
    "cv2.waitKey(0) \n",
    "\n",
    "cv2.destroyAllWindows() "
   ]
  },
  {
   "cell_type": "code",
   "execution_count": null,
   "metadata": {},
   "outputs": [],
   "source": []
  }
 ],
 "metadata": {
  "kernelspec": {
   "display_name": "Python 3",
   "language": "python",
   "name": "python3"
  },
  "language_info": {
   "codemirror_mode": {
    "name": "ipython",
    "version": 3
   },
   "file_extension": ".py",
   "mimetype": "text/x-python",
   "name": "python",
   "nbconvert_exporter": "python",
   "pygments_lexer": "ipython3",
   "version": "3.8.10"
  }
 },
 "nbformat": 4,
 "nbformat_minor": 2
}
