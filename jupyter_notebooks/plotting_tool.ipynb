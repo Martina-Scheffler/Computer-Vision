{
 "cells": [
  {
   "cell_type": "code",
   "execution_count": 20,
   "metadata": {},
   "outputs": [],
   "source": [
    "import numpy as np\n",
    "import cv2 \n",
    "import matplotlib.pyplot as plt"
   ]
  },
  {
   "cell_type": "code",
   "execution_count": 21,
   "metadata": {},
   "outputs": [],
   "source": [
    "camera = 1\n",
    "original_scale = (3840, 2160)\n",
    "display_scale = (1280, 720)\n",
    "\n",
    "scale_ratio = original_scale[0] / display_scale[0]"
   ]
  },
  {
   "cell_type": "code",
   "execution_count": 22,
   "metadata": {},
   "outputs": [],
   "source": [
    "image = cv2.imread(f'../extrinsic_calibration_images/out{camera}.png')"
   ]
  },
  {
   "cell_type": "code",
   "execution_count": 23,
   "metadata": {},
   "outputs": [],
   "source": [
    "# function to display the coordinates of \n",
    "# of the points clicked on the image  \n",
    "def click_event(event, x, y, flags, params): \n",
    "  \n",
    "    # checking for left mouse clicks \n",
    "    if event == cv2.EVENT_LBUTTONDOWN: \n",
    "  \n",
    "        # displaying the coordinates \n",
    "        # on the Shell \n",
    "        global point\n",
    "        point = np.array([int(scale_ratio * x), int(scale_ratio * y), 1])\n",
    "        print(point) \n",
    "  \n",
    "        # displaying the coordinates \n",
    "        # on the image window \n",
    "        font = cv2.FONT_HERSHEY_SIMPLEX \n",
    "        imS = cv2.resize(image, display_scale)\n",
    "        cv2.putText(imS, str(point[0]) + ',' +\n",
    "                    str(point[1]), (x,y), font, \n",
    "                    1, (255, 0, 0), 2)\n",
    "        cv2.imshow('image', imS) "
   ]
  },
  {
   "cell_type": "code",
   "execution_count": 24,
   "metadata": {},
   "outputs": [
    {
     "name": "stdout",
     "output_type": "stream",
     "text": [
      "[1488  969    1]\n"
     ]
    }
   ],
   "source": [
    "imS = cv2.resize(image, display_scale) \n",
    "cv2.imshow('image', imS)\n",
    "# setting mouse handler for the image and calling the click_event() function \n",
    "cv2.setMouseCallback('image', click_event) \n",
    "cv2.waitKey(0)\n",
    "cv2.destroyAllWindows()\n"
   ]
  },
  {
   "cell_type": "code",
   "execution_count": 25,
   "metadata": {},
   "outputs": [],
   "source": [
    "homography_matrix = np.load(f'../homography_matrices/{camera}.npy')\n",
    "world_point = np.dot(homography_matrix, point)\n",
    "world_point = world_point / world_point[2]"
   ]
  },
  {
   "cell_type": "code",
   "execution_count": 26,
   "metadata": {},
   "outputs": [
    {
     "data": {
      "text/plain": [
       "(-0.908562972229401, 18.900407760582354, 9.45, -0.45)"
      ]
     },
     "execution_count": 26,
     "metadata": {},
     "output_type": "execute_result"
    },
    {
     "data": {
      "image/png": "[encoded data removed]",
      "text/plain": [
       "<Figure size 432x288 with 1 Axes>"
      ]
     },
     "metadata": {
      "needs_background": "light"
     },
     "output_type": "display_data"
    }
   ],
   "source": [
    "# plot the court\n",
    "plt.scatter([0, 0, 6, 6, 9, 9, 12, 12, 18, 18], [0, 9, 0, 9, 0, 9, 0, 9, 0, 9], color='blue')\n",
    "plt.plot([0, 0], [0, 9], 'blue')\n",
    "plt.plot([6, 6], [0, 9], 'blue')\n",
    "plt.plot([9, 9], [0, 9], 'blue')\n",
    "plt.plot([12, 12], [0, 9], 'blue')\n",
    "plt.plot([18, 18], [0, 9], 'blue')\n",
    "plt.plot([0, 18], [0, 0], 'blue')\n",
    "plt.plot([0, 18], [9, 9], 'blue')\n",
    "\n",
    "# plot the point\n",
    "plt.scatter(world_point[0], world_point[1], color='red')\n",
    "\n",
    "# invert the y axis so origin is in top left corner\n",
    "plt.gca().invert_yaxis()\n",
    "\n",
    "plt.axis('equal')"
   ]
  },
  {
   "cell_type": "code",
   "execution_count": 27,
   "metadata": {},
   "outputs": [],
   "source": [
    "# loop over other images - try to find point\n",
    "homographies = {\n",
    "    '1': np.load('../homography_matrices/1.npy'),\n",
    "    '2': np.load('../homography_matrices/2.npy'),\n",
    "    '3': np.load('../homography_matrices/3.npy'),\n",
    "    '4': np.load('../homography_matrices/4.npy'),\n",
    "    '5': np.load('../homography_matrices/5.npy'),\n",
    "    '6': np.load('../homography_matrices/6.npy'),\n",
    "    '7': np.load('../homography_matrices/7.npy'),\n",
    "    '8': np.load('../homography_matrices/8.npy'),\n",
    "    '12': np.load('../homography_matrices/12.npy'),\n",
    "    '13': np.load('../homography_matrices/13.npy')\n",
    "}\n"
   ]
  },
  {
   "cell_type": "code",
   "execution_count": 34,
   "metadata": {},
   "outputs": [
    {
     "name": "stdout",
     "output_type": "stream",
     "text": [
      "1 [1488.  969.]\n",
      "2 [1065.00751416 1016.8774079 ]\n",
      "3 [1994.61304734  997.58075821]\n",
      "4 [-119.32420084  914.3693788 ]\n",
      "Camera 4 does not see this point.\n",
      "5 [-340.16264493 1549.17593438]\n",
      "Camera 5 does not see this point.\n",
      "6 [3568.59757535 1704.99976455]\n",
      "7 [2332.70811288 1084.1878088 ]\n",
      "8 [5031.60544631  549.07285347]\n",
      "Camera 8 does not see this point.\n",
      "12 [1372.28741779  680.15124268]\n",
      "13 [ 573.15603301 1397.31123808]\n"
     ]
    }
   ],
   "source": [
    "for camera in homographies.keys():\n",
    "    image_point = np.dot(np.linalg.inv(homographies[camera]), world_point)\n",
    "    image_point = (image_point / image_point[2])[:2]\n",
    "    \n",
    "    if 0 < image_point[0] < original_scale[0] and 0 < image_point[1] < original_scale[1]:\n",
    "        image2 = cv2.imread(f'../extrinsic_calibration_images/out{camera}.png')\n",
    "        cv2.circle(image2, image_point.astype(int), 15, (0, 0, 255), 3)\n",
    "        im2 = cv2.resize(image2, display_scale) \n",
    "        cv2.imshow(f'Camera {camera}', im2)\n",
    "        cv2.waitKey(0)\n",
    "        cv2.destroyAllWindows()\n",
    "    else:\n",
    "        print(f'Camera {camera} does not see this point.')\n",
    "    "
   ]
  },
  {
   "cell_type": "code",
   "execution_count": 29,
   "metadata": {},
   "outputs": [],
   "source": [
    "# # find point in other images \n",
    "# homography_2 = np.load('../homography_matrices/2.npy')\n",
    "# image_point = np.dot(np.linalg.inv(homography_2), world_point)\n",
    "# image_point = (image_point / image_point[2])[:2]\n",
    "\n",
    "# if image_point[0] < original_scale[0] and image_point[1] < original_scale[1]:\n",
    "#     image2 = cv2.imread(f'../extrinsic_calibration_images/out2.png')\n",
    "#     cv2.circle(image2, image_point.astype(int), 10, (0, 0, 255), 2)\n",
    "#     im2 = cv2.resize(image2, display_scale) \n",
    "#     cv2.imshow('image', im2)\n",
    "#     cv2.waitKey(0)\n",
    "#     cv2.destroyAllWindows()"
   ]
  },
  {
   "cell_type": "code",
   "execution_count": 30,
   "metadata": {},
   "outputs": [],
   "source": [
    "# # find point in other images \n",
    "# homography_3 = np.load('../homography_matrices/3.npy')\n",
    "# image_point = np.dot(np.linalg.inv(homography_3), world_point)\n",
    "# image_point = (image_point / image_point[2])[:2]\n",
    "\n",
    "# if image_point[0] < original_scale[0] and image_point[1] < original_scale[1]:\n",
    "#     image2 = cv2.imread(f'../extrinsic_calibration_images/out3.png')\n",
    "#     cv2.circle(image2, image_point.astype(int), 10, (0, 0, 255), 2)\n",
    "#     im2 = cv2.resize(image2, display_scale) \n",
    "#     cv2.imshow('image', im2)\n",
    "#     cv2.waitKey(0)\n",
    "#     cv2.destroyAllWindows()"
   ]
  }
 ],
 "metadata": {
  "kernelspec": {
   "display_name": "Python 3",
   "language": "python",
   "name": "python3"
  },
  "language_info": {
   "codemirror_mode": {
    "name": "ipython",
    "version": 3
   },
   "file_extension": ".py",
   "mimetype": "text/x-python",
   "name": "python",
   "nbconvert_exporter": "python",
   "pygments_lexer": "ipython3",
   "version": "3.8.10"
  }
 },
 "nbformat": 4,
 "nbformat_minor": 2
}
