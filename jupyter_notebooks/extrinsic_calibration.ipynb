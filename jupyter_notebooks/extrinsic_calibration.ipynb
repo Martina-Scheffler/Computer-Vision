{
 "cells": [
  {
   "cell_type": "code",
   "execution_count": 18,
   "metadata": {},
   "outputs": [],
   "source": [
    "import numpy as np \n",
    "import cv2"
   ]
  },
  {
   "cell_type": "code",
   "execution_count": 19,
   "metadata": {},
   "outputs": [],
   "source": [
    "camera = 1"
   ]
  },
  {
   "cell_type": "code",
   "execution_count": 20,
   "metadata": {},
   "outputs": [
    {
     "name": "stdout",
     "output_type": "stream",
     "text": [
      "[[4.33415757e+03 0.00000000e+00 1.99768029e+03]\n",
      " [0.00000000e+00 4.35668184e+03 1.18327393e+03]\n",
      " [0.00000000e+00 0.00000000e+00 1.00000000e+00]]\n",
      "[[-0.39543072  0.49197966 -0.00158816 -0.00201569 -0.75297213]]\n"
     ]
    }
   ],
   "source": [
    "# import intrinsic matrix and distortion coefficients\n",
    "intrinsic_matrix = np.load(f'../intrinsic_matrices/{camera}.npy')\n",
    "distortion_coefficients = np.load(f'../distortions/{camera}.npy')\n",
    "\n",
    "print(intrinsic_matrix)\n",
    "print(distortion_coefficients)"
   ]
  },
  {
   "cell_type": "code",
   "execution_count": 21,
   "metadata": {},
   "outputs": [
    {
     "name": "stdout",
     "output_type": "stream",
     "text": [
      "[[    0.     0.     0.]\n",
      " [ 6000.     0.     0.]\n",
      " [ 9000.     0.     0.]\n",
      " [    0.  9000.     0.]\n",
      " [ 6000.  9000.     0.]\n",
      " [ 9000.  9000.     0.]\n",
      " [ 6000. -1750.     0.]\n",
      " [    0. -1750.     0.]]\n",
      "[[1482.  966.]\n",
      " [2408. 1005.]\n",
      " [2801. 1024.]\n",
      " [2003. 1625.]\n",
      " [3224. 1590.]\n",
      " [3678. 1570.]\n",
      " [2296.  928.]\n",
      " [1427.  885.]]\n"
     ]
    }
   ],
   "source": [
    "# import points\n",
    "world_points = np.load(f'../extrinsic_calibration_points/{camera}_world.npy')\n",
    "image_points = np.load(f'../extrinsic_calibration_points/{camera}_image.npy')\n",
    "print(world_points)\n",
    "print(image_points)\n"
   ]
  },
  {
   "cell_type": "code",
   "execution_count": 22,
   "metadata": {},
   "outputs": [],
   "source": [
    "# generate world points\n",
    "# world_points = np.array([[0, 9, 0],\n",
    "#                          [6, 9, 0],\n",
    "#                          [12, 9, 0],\n",
    "#                          [9, 9, 0],\n",
    "#                          [0, 10.75, 0],\n",
    "#                          [6, 10.75, 0]], dtype=np.float32) * 1000. # mm\n",
    "\n",
    "# image_points = np.array([[2057, 1068],\n",
    "#                          [1119, 698],\n",
    "#                          [484, 446],\n",
    "#                          [773, 560],\n",
    "#                          [2351, 1009],\n",
    "#                          [1413, 666]], dtype=np.float32) # px\n",
    "\n",
    "# np.save(f'../extrinsic_calibration_points/{camera}_world', world_points)\n",
    "# np.save(f'../extrinsic_calibration_points/{camera}_image', image_points)\n"
   ]
  },
  {
   "cell_type": "code",
   "execution_count": 23,
   "metadata": {},
   "outputs": [
    {
     "name": "stdout",
     "output_type": "stream",
     "text": [
      "True\n",
      "Extrinsic Matrix:\n",
      "[[ 9.30912878e-01  2.21864101e-02  3.64566835e-01 -6.30749869e+00]\n",
      " [ 3.37161015e-01  3.31605107e-01 -8.81113218e-01  2.34693748e+01]\n",
      " [-1.40440964e-01  9.43157366e-01  3.01215072e-01 -6.77917197e+00]\n",
      " [ 0.00000000e+00  0.00000000e+00  0.00000000e+00  1.00000000e+00]]\n"
     ]
    }
   ],
   "source": [
    "# calibrate extrinsic matrix\n",
    "success, rvecs, tvecs = cv2.solvePnP(world_points, image_points, intrinsic_matrix, distortion_coefficients)\n",
    "print(success)\n",
    "\n",
    "rotation_matrix, _ = cv2.Rodrigues(rvecs)\n",
    "\n",
    "# convert from 3x3 to 4x4\n",
    "rotation_matrix = np.pad(rotation_matrix, (0, 1), mode='constant')\n",
    "rotation_matrix[3, 3] = 1\n",
    "\n",
    "tvecs = tvecs.flatten() / 1000.\n",
    "\n",
    "t_matrix = np.array([[1, 0, 0, tvecs[0]],\n",
    "                     [0, 1, 0, tvecs[1]],\n",
    "                     [0, 0, 1, tvecs[2]],\n",
    "                     [0, 0, 0, 1]])\n",
    "\n",
    "world_f_camera = np.dot(t_matrix, rotation_matrix)\n",
    "extrinsic_matrix = np.linalg.inv(world_f_camera)\n",
    "print(f'Extrinsic Matrix:\\n{extrinsic_matrix}')\n",
    "\n",
    "# save matrix \n",
    "np.save(f'../extrinsic_matrices/{camera}', extrinsic_matrix)"
   ]
  }
 ],
 "metadata": {
  "kernelspec": {
   "display_name": "Python 3",
   "language": "python",
   "name": "python3"
  },
  "language_info": {
   "codemirror_mode": {
    "name": "ipython",
    "version": 3
   },
   "file_extension": ".py",
   "mimetype": "text/x-python",
   "name": "python",
   "nbconvert_exporter": "python",
   "pygments_lexer": "ipython3",
   "version": "3.8.10"
  }
 },
 "nbformat": 4,
 "nbformat_minor": 2
}
