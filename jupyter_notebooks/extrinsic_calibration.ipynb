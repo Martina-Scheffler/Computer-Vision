{
 "cells": [
  {
   "cell_type": "code",
   "execution_count": 37,
   "metadata": {},
   "outputs": [],
   "source": [
    "import numpy as np \n",
    "import cv2"
   ]
  },
  {
   "cell_type": "code",
   "execution_count": 38,
   "metadata": {},
   "outputs": [],
   "source": [
    "# import intrinsic matrix and distortion coefficients\n",
    "intrinsic_matrix = np.load('../intrinsic_matrices/1.npy')\n",
    "distortion_coefficients = np.load('../distortions/1.npy')"
   ]
  },
  {
   "cell_type": "code",
   "execution_count": 39,
   "metadata": {},
   "outputs": [
    {
     "data": {
      "text/plain": [
       "'\\n# cut out single frame\\nimport moviepy.editor as mpy\\nmaskclip = mpy.VideoFileClip(\"../videos/out1.mp4\")\\nmaskclip.save_frame(\"../extrinsic_calibration_images/out1.png\", t=\\'00:00:56\\')\\n'"
      ]
     },
     "execution_count": 39,
     "metadata": {},
     "output_type": "execute_result"
    }
   ],
   "source": [
    "'''\n",
    "# cut out single frame\n",
    "import moviepy.editor as mpy\n",
    "maskclip = mpy.VideoFileClip(\"../videos/out1.mp4\")\n",
    "maskclip.save_frame(\"../extrinsic_calibration_images/out1.png\", t='00:00:56')\n",
    "'''"
   ]
  },
  {
   "cell_type": "code",
   "execution_count": 40,
   "metadata": {},
   "outputs": [],
   "source": [
    "# generate world points\n",
    "world_points = np.array([[0, 0, 0], [6, 0, 0], [0, 9, 0], [6, 9, 0]], dtype=np.float32) * 1000. # mm\n",
    "image_points = np.array([[1482, 966], [2410, 1006], [2002, 1625], [3221, 1590]], dtype=np.float32) # px"
   ]
  },
  {
   "cell_type": "code",
   "execution_count": 47,
   "metadata": {},
   "outputs": [
    {
     "name": "stdout",
     "output_type": "stream",
     "text": [
      "Extrinsic Matrix:\n",
      "[[ 0.9295526  -0.05298937  0.36486174 -6.76736156]\n",
      " [ 0.34081979  0.5009434  -0.7955486  24.58670986]\n",
      " [-0.14061946  0.86385638  0.48371306 -7.48816262]\n",
      " [ 0.          0.          0.          1.        ]]\n"
     ]
    }
   ],
   "source": [
    "# calibrate extrinsic matrix\n",
    "success, rvecs, tvecs = cv2.solvePnP(world_points, image_points, intrinsic_matrix, distortion_coefficients)\n",
    "rotation_matrix, _ = cv2.Rodrigues(rvecs)\n",
    "\n",
    "# convert from 3x3 to 4x4\n",
    "rotation_matrix = np.pad(rotation_matrix, (0, 1), mode='constant')\n",
    "rotation_matrix[3, 3] = 1\n",
    "\n",
    "tvecs = tvecs.flatten() / 1000.\n",
    "\n",
    "t_matrix = np.array([[1, 0, 0, tvecs[0]],\n",
    "                     [0, 1, 0, tvecs[1]],\n",
    "                     [0, 0, 1, tvecs[2]],\n",
    "                     [0, 0, 0, 1]])\n",
    "\n",
    "world_f_camera = np.dot(t_matrix, rotation_matrix)\n",
    "extrinsic_matrix = np.linalg.inv(world_f_camera)\n",
    "print(f'Extrinsic Matrix:\\n{extrinsic_matrix}')"
   ]
  },
  {
   "cell_type": "code",
   "execution_count": null,
   "metadata": {},
   "outputs": [],
   "source": []
  }
 ],
 "metadata": {
  "kernelspec": {
   "display_name": "Python 3",
   "language": "python",
   "name": "python3"
  },
  "language_info": {
   "codemirror_mode": {
    "name": "ipython",
    "version": 3
   },
   "file_extension": ".py",
   "mimetype": "text/x-python",
   "name": "python",
   "nbconvert_exporter": "python",
   "pygments_lexer": "ipython3",
   "version": "3.8.10"
  }
 },
 "nbformat": 4,
 "nbformat_minor": 2
}
