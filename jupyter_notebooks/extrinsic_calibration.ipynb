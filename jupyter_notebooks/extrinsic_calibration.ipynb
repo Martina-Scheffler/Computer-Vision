{
 "cells": [
  {
   "cell_type": "code",
   "execution_count": 12,
   "metadata": {},
   "outputs": [],
   "source": [
    "import numpy as np \n",
    "import cv2"
   ]
  },
  {
   "cell_type": "code",
   "execution_count": 13,
   "metadata": {},
   "outputs": [],
   "source": [
    "camera = 1"
   ]
  },
  {
   "cell_type": "code",
   "execution_count": 14,
   "metadata": {},
   "outputs": [
    {
     "name": "stdout",
     "output_type": "stream",
     "text": [
      "[[2.03425508e+03 0.00000000e+00 1.85906416e+03]\n",
      " [0.00000000e+00 2.05401046e+03 1.12199428e+03]\n",
      " [0.00000000e+00 0.00000000e+00 1.00000000e+00]]\n",
      "[[-0.30915611  0.09657182  0.0009885   0.00158603 -0.01378949]]\n"
     ]
    }
   ],
   "source": [
    "# import intrinsic matrix and distortion coefficients\n",
    "intrinsic_matrix = np.load(f'../intrinsic_matrices/{camera}.npy')\n",
    "distortion_coefficients = np.load(f'../distortions/{camera}.npy')\n",
    "\n",
    "print(intrinsic_matrix)\n",
    "print(distortion_coefficients)"
   ]
  },
  {
   "cell_type": "code",
   "execution_count": 15,
   "metadata": {},
   "outputs": [
    {
     "name": "stdout",
     "output_type": "stream",
     "text": [
      "[[18000.  9000.     0.]\n",
      " [12000.  9000.     0.]\n",
      " [ 9000.  9000.     0.]\n",
      " [ 6000.  9000.     0.]\n",
      " [    0.  9000.     0.]\n",
      " [18000.     0.     0.]\n",
      " [12000.     0.     0.]\n",
      " [ 9000.     0.     0.]\n",
      " [ 6000.     0.     0.]]\n",
      "[[1242. 1196.]\n",
      " [1042.  937.]\n",
      " [ 979.  852.]\n",
      " [ 929.  783.]\n",
      " [ 857.  682.]\n",
      " [2089. 1103.]\n",
      " [1761.  904.]\n",
      " [1638.  832.]\n",
      " [1532.  771.]]\n"
     ]
    }
   ],
   "source": [
    "# import points\n",
    "world_points = np.load(f'../extrinsic_calibration_points/{camera}_world.npy')\n",
    "image_points = np.load(f'../extrinsic_calibration_points/{camera}_image.npy')\n",
    "print(world_points)\n",
    "print(image_points)\n"
   ]
  },
  {
   "cell_type": "code",
   "execution_count": 16,
   "metadata": {},
   "outputs": [],
   "source": [
    "# generate world points\n",
    "# world_points = np.array([[0, 9, 0],\n",
    "#                          [6, 9, 0],\n",
    "#                          [12, 9, 0],\n",
    "#                          [9, 9, 0],\n",
    "#                          [0, 10.75, 0],\n",
    "#                          [6, 10.75, 0]], dtype=np.float32) * 1000. # mm\n",
    "\n",
    "# image_points = np.array([[2057, 1068],\n",
    "#                          [1119, 698],\n",
    "#                          [484, 446],\n",
    "#                          [773, 560],\n",
    "#                          [2351, 1009],\n",
    "#                          [1413, 666]], dtype=np.float32) # px\n",
    "\n",
    "# np.save(f'../extrinsic_calibration_points/{camera}_world', world_points)\n",
    "# np.save(f'../extrinsic_calibration_points/{camera}_image', image_points)\n"
   ]
  },
  {
   "cell_type": "code",
   "execution_count": 17,
   "metadata": {},
   "outputs": [
    {
     "name": "stdout",
     "output_type": "stream",
     "text": [
      "True\n",
      "Extrinsic Matrix:\n",
      "[[ 0.58707637  0.40299617 -0.70209361 31.28107091]\n",
      " [-0.78840822  0.08780006 -0.60885435 14.47564573]\n",
      " [-0.18372211  0.91098037  0.36927083 -7.02654039]\n",
      " [ 0.          0.          0.          1.        ]]\n"
     ]
    }
   ],
   "source": [
    "# calibrate extrinsic matrix\n",
    "success, rvecs, tvecs = cv2.solvePnP(world_points, image_points, intrinsic_matrix, distortion_coefficients)\n",
    "print(success)\n",
    "\n",
    "rotation_matrix, _ = cv2.Rodrigues(rvecs)\n",
    "\n",
    "# convert from 3x3 to 4x4\n",
    "rotation_matrix = np.pad(rotation_matrix, (0, 1), mode='constant')\n",
    "rotation_matrix[3, 3] = 1\n",
    "\n",
    "tvecs = tvecs.flatten() / 1000.\n",
    "\n",
    "t_matrix = np.array([[1, 0, 0, tvecs[0]],\n",
    "                     [0, 1, 0, tvecs[1]],\n",
    "                     [0, 0, 1, tvecs[2]],\n",
    "                     [0, 0, 0, 1]])\n",
    "\n",
    "world_f_camera = np.dot(t_matrix, rotation_matrix)\n",
    "extrinsic_matrix = np.linalg.inv(world_f_camera)\n",
    "print(f'Extrinsic Matrix:\\n{extrinsic_matrix}')\n",
    "\n",
    "# save matrix \n",
    "np.save(f'../extrinsic_matrices/{camera}', extrinsic_matrix)"
   ]
  }
 ],
 "metadata": {
  "kernelspec": {
   "display_name": "Python 3",
   "language": "python",
   "name": "python3"
  },
  "language_info": {
   "codemirror_mode": {
    "name": "ipython",
    "version": 3
   },
   "file_extension": ".py",
   "mimetype": "text/x-python",
   "name": "python",
   "nbconvert_exporter": "python",
   "pygments_lexer": "ipython3",
   "version": "3.8.10"
  }
 },
 "nbformat": 4,
 "nbformat_minor": 2
}
