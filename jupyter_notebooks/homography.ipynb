{
 "cells": [
  {
   "cell_type": "code",
   "execution_count": 104,
   "metadata": {},
   "outputs": [],
   "source": [
    "import numpy as np\n",
    "import cv2"
   ]
  },
  {
   "cell_type": "code",
   "execution_count": 105,
   "metadata": {},
   "outputs": [],
   "source": [
    "camera = 1"
   ]
  },
  {
   "cell_type": "code",
   "execution_count": 106,
   "metadata": {},
   "outputs": [
    {
     "name": "stdout",
     "output_type": "stream",
     "text": [
      "[[ 575. 1399.]\n",
      " [ 859.  905.]\n",
      " [ 955.  747.]\n",
      " [1032.  623.]\n",
      " [1147.  443.]\n",
      " [2722. 1432.]\n",
      " [2445.  934.]\n",
      " [2354.  774.]\n",
      " [2281.  648.]\n",
      " [2171.  462.]]\n",
      "[[ 0.  0.]\n",
      " [ 6.  0.]\n",
      " [ 9.  0.]\n",
      " [12.  0.]\n",
      " [18.  0.]\n",
      " [ 0.  9.]\n",
      " [ 6.  9.]\n",
      " [ 9.  9.]\n",
      " [12.  9.]\n",
      " [18.  9.]]\n"
     ]
    }
   ],
   "source": [
    "# reuse extrinsic calibration points for homography\n",
    "image_points = np.load(f'../extrinsic_calibration_points/{camera}_image.npy')\n",
    "court_points = np.load(f'../extrinsic_calibration_points/{camera}_world.npy')[:, :2] / 1000\n",
    "print(image_points)\n",
    "print(court_points)"
   ]
  },
  {
   "cell_type": "code",
   "execution_count": 107,
   "metadata": {},
   "outputs": [
    {
     "name": "stdout",
     "output_type": "stream",
     "text": [
      "[[ 6.03795596e-04 -3.61226263e-02  5.00950299e+01]\n",
      " [ 1.67301152e-02  1.02325084e-02 -2.36944940e+01]\n",
      " [-4.91331791e-05  2.24013621e-03  1.00000000e+00]]\n"
     ]
    }
   ],
   "source": [
    "homography_matrix, _ = cv2.findHomography(image_points, court_points)\n",
    "print(homography_matrix)"
   ]
  },
  {
   "cell_type": "code",
   "execution_count": 108,
   "metadata": {},
   "outputs": [],
   "source": [
    "np.save(f'../homography_matrices/{camera}', homography_matrix)"
   ]
  },
  {
   "cell_type": "code",
   "execution_count": 109,
   "metadata": {},
   "outputs": [],
   "source": [
    "# test_image = np.array([1482, 966, 1])\n",
    "# test_court = np.dot(homography_matrix, test_image)\n",
    "# print(test_court / test_court[2])"
   ]
  },
  {
   "cell_type": "code",
   "execution_count": 110,
   "metadata": {},
   "outputs": [],
   "source": [
    "# test_court = [6, -1.75, 1]\n",
    "# test_image = np.dot(np.linalg.inv(homography_matrix), test_court)\n",
    "# print(test_image / test_image[2])"
   ]
  },
  {
   "cell_type": "code",
   "execution_count": null,
   "metadata": {},
   "outputs": [],
   "source": []
  }
 ],
 "metadata": {
  "kernelspec": {
   "display_name": "Python 3",
   "language": "python",
   "name": "python3"
  },
  "language_info": {
   "codemirror_mode": {
    "name": "ipython",
    "version": 3
   },
   "file_extension": ".py",
   "mimetype": "text/x-python",
   "name": "python",
   "nbconvert_exporter": "python",
   "pygments_lexer": "ipython3",
   "version": "3.8.10"
  }
 },
 "nbformat": 4,
 "nbformat_minor": 2
}
